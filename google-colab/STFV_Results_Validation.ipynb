{
  "nbformat": 4,
  "nbformat_minor": 0,
  "metadata": {
    "colab": {
      "provenance": []
    },
    "kernelspec": {
      "name": "python3",
      "display_name": "Python 3"
    },
    "language_info": {
      "name": "python"
    }
  },
  "cells": [
    {
      "cell_type": "markdown",
      "source": [
        "## Filter d = 4 matching"
      ],
      "metadata": {
        "id": "CCV4QsP5bSIi"
      }
    },
    {
      "cell_type": "code",
      "execution_count": null,
      "metadata": {
        "id": "da9cxC3S6Rzm"
      },
      "outputs": [],
      "source": [
        "import pandas as pd\n",
        "\n",
        "matching = pd.read_csv(\"in.csv\", encoding=\"cp1252\")\n",
        "matching = matching.query(\"Class == '(Not uniquely) additive' | Class == 'Uniquely additive'\")[[\"Nº\", \"ID\", \"Degree\", \"b_2\", \"b_4\", \"|I|\", \"|J|\", \"Notation\", \"Class\"]]\n",
        "d = {\"(Not uniquely) additive\": \"No\", \"Uniquely additive\": \"Yes\"}\n",
        "matching[\"Class\"].replace(d, inplace=True)\n",
        "matching.to_csv(\"out.csv\", index=False)\n"
      ]
    }
  ]
}